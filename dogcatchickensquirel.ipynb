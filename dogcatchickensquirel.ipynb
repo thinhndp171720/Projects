{
 "cells": [
  {
   "cell_type": "code",
   "execution_count": 1,
   "metadata": {},
   "outputs": [],
   "source": [
    "import os\n",
    "import cv2\n",
    "import numpy as np\n",
    "import tensorflow as tf\n",
    "from tensorflow.keras.layers import Conv2D, MaxPooling2D\n",
    "import matplotlib.pyplot as plt\n",
    "import matplotlib.image as mpl\n",
    "from keras.models import Sequential\n",
    "from keras.layers import Dense, Dropout, Conv2D, Flatten\n",
    "from sklearn.model_selection import train_test_split\n",
    "from tensorflow.keras.preprocessing.image import ImageDataGenerator\n",
    "from tensorflow.keras.preprocessing import image\n",
    "from tensorflow.keras.optimizers import RMSprop\n",
    "from tensorflow.keras import layers, models\n",
    "from tensorflow.keras.optimizers import Adam\n",
    "from tensorflow.keras.callbacks import EarlyStopping\n",
    "from keras_tuner.tuners import RandomSearch\n",
    "import shutil"
   ]
  },
  {
   "cell_type": "code",
   "execution_count": 2,
   "metadata": {},
   "outputs": [],
   "source": [
    "base = 'C:\\\\Users\\\\thinh\\\\Downloads\\\\Datasetandrequirement\\\\data'"
   ]
  },
  {
   "cell_type": "code",
   "execution_count": 3,
   "metadata": {},
   "outputs": [
    {
     "name": "stdout",
     "output_type": "stream",
     "text": [
      "Chia dữ liệu hoàn tất.\n"
     ]
    }
   ],
   "source": [
    "output_dir = 'C:\\\\Users\\\\thinh\\\\Downloads\\\\Datasetandrequirement\\\\split_data'\n",
    "data_1_dir = os.path.join(output_dir, 'data_1')\n",
    "data_2_dir = os.path.join(output_dir, 'data_2')\n",
    "os.makedirs(data_1_dir, exist_ok=True)\n",
    "os.makedirs(data_2_dir, exist_ok=True)\n",
    "\n",
    "# Duyệt qua từng lớp\n",
    "for class_name in os.listdir(base):\n",
    "    class_dir = os.path.join(base, class_name)\n",
    "    if os.path.isdir(class_dir):\n",
    "        files = os.listdir(class_dir)\n",
    "        \n",
    "        # Chia thành hai phần 70-30\n",
    "        train_files, test_files = train_test_split(files, test_size=0.3, random_state=42)\n",
    "        \n",
    "        # Tạo thư mục cho mỗi lớp\n",
    "        train_class_dir = os.path.join(data_1_dir, class_name)\n",
    "        test_class_dir = os.path.join(data_2_dir, class_name)\n",
    "        os.makedirs(train_class_dir, exist_ok=True)\n",
    "        os.makedirs(test_class_dir, exist_ok=True)\n",
    "        \n",
    "        # Di chuyển tệp vào thư mục tương ứng\n",
    "        for file in train_files:\n",
    "            shutil.copy(os.path.join(class_dir, file), os.path.join(train_class_dir, file))\n",
    "        \n",
    "        for file in test_files:\n",
    "            shutil.copy(os.path.join(class_dir, file), os.path.join(test_class_dir, file))\n",
    "\n",
    "print(\"Chia dữ liệu hoàn tất.\")"
   ]
  },
  {
   "cell_type": "code",
   "execution_count": 4,
   "metadata": {},
   "outputs": [],
   "source": [
    "datagen = ImageDataGenerator(\n",
    "    rescale=1./255,\n",
    "    rotation_range=15,\n",
    "    width_shift_range=0.1,\n",
    "    height_shift_range=0.1,\n",
    "    horizontal_flip=True,\n",
    "    validation_split=0.3\n",
    ")"
   ]
  },
  {
   "cell_type": "code",
   "execution_count": 5,
   "metadata": {},
   "outputs": [],
   "source": [
    "training_datagen = ImageDataGenerator(\n",
    "      rescale = 1./255,\n",
    "\trotation_range=40,\n",
    "      width_shift_range=0.2,\n",
    "      height_shift_range=0.2,\n",
    "      shear_range=0.2,\n",
    "      zoom_range=0.2,\n",
    "      horizontal_flip=True,\n",
    "      fill_mode='nearest')\n",
    "validation_datagen = ImageDataGenerator(rescale = 1./255)"
   ]
  },
  {
   "cell_type": "code",
   "execution_count": 6,
   "metadata": {},
   "outputs": [
    {
     "name": "stdout",
     "output_type": "stream",
     "text": [
      "Found 5631 images belonging to 4 classes.\n",
      "Found 2411 images belonging to 4 classes.\n"
     ]
    }
   ],
   "source": [
    "train_generator = datagen.flow_from_directory(\n",
    "    'C:\\\\Users\\\\thinh\\\\Downloads\\\\Datasetandrequirement\\\\split_data\\\\data_1',\n",
    "    target_size=(150, 150),\n",
    "    batch_size=32,\n",
    "    class_mode='sparse',\n",
    "    subset='training',\n",
    "    color_mode='rgb',\n",
    "    seed=42,\n",
    "    interpolation='nearest'\n",
    ")\n",
    "\n",
    "validation_generator = datagen.flow_from_directory(\n",
    "    'C:\\\\Users\\\\thinh\\\\Downloads\\\\Datasetandrequirement\\\\split_data\\\\data_1',\n",
    "    target_size=(150, 150),\n",
    "    batch_size=32,\n",
    "    class_mode='sparse',\n",
    "    subset='validation',\n",
    "    color_mode='rgb',\n",
    "    seed=42,\n",
    "    interpolation='nearest'\n",
    ")"
   ]
  },
  {
   "cell_type": "code",
   "execution_count": 7,
   "metadata": {},
   "outputs": [
    {
     "data": {
      "text/plain": [
       "{'cats': 0, 'chicken': 1, 'dogs': 2, 'squirrels': 3}"
      ]
     },
     "execution_count": 7,
     "metadata": {},
     "output_type": "execute_result"
    }
   ],
   "source": [
    "class_name = train_generator.class_indices\n",
    "class_name"
   ]
  },
  {
   "cell_type": "code",
   "execution_count": 8,
   "metadata": {},
   "outputs": [
    {
     "name": "stderr",
     "output_type": "stream",
     "text": [
      "c:\\Users\\thinh\\AppData\\Local\\Programs\\Python\\Python311\\Lib\\site-packages\\keras\\src\\layers\\convolutional\\base_conv.py:107: UserWarning: Do not pass an `input_shape`/`input_dim` argument to a layer. When using Sequential models, prefer using an `Input(shape)` object as the first layer in the model instead.\n",
      "  super().__init__(activity_regularizer=activity_regularizer, **kwargs)\n"
     ]
    }
   ],
   "source": [
    "model = models.Sequential()\n",
    "model.add(layers.Conv2D(32,(3, 3), activation='relu', input_shape=(150, 150, 3)))\n",
    "model.add(layers.MaxPooling2D((2, 2)))\n",
    "model.add(layers.Conv2D(32,(3, 3), activation='relu'))\n",
    "model.add(layers.MaxPooling2D((2, 2)))\n",
    "model.add(layers.Conv2D(64,(3, 3), activation='relu'))\n",
    "model.add(layers.MaxPooling2D((2, 2)))\n",
    "model.add(layers.Conv2D(128,(3, 3), activation='relu'))\n",
    "model.add(layers.MaxPooling2D((2, 2)))\n",
    "model.add(layers.Flatten())\n",
    "model.add(layers.Dense(512, activation='relu'))\n",
    "model.add(layers.Dense(256, activation='relu'))\n",
    "model.add(layers.Dense(128, activation='relu'))\n",
    "model.add(layers.Dense(4, activation='softmax'))\n",
    "\n",
    "model.compile(optimizer=Adam(learning_rate=0.001),\n",
    "                loss='sparse_categorical_crossentropy',\n",
    "                metrics=['accuracy'])\n"
   ]
  },
  {
   "cell_type": "code",
   "execution_count": 9,
   "metadata": {},
   "outputs": [
    {
     "name": "stdout",
     "output_type": "stream",
     "text": [
      "Epoch 1/70\n"
     ]
    },
    {
     "name": "stderr",
     "output_type": "stream",
     "text": [
      "c:\\Users\\thinh\\AppData\\Local\\Programs\\Python\\Python311\\Lib\\site-packages\\keras\\src\\trainers\\data_adapters\\py_dataset_adapter.py:121: UserWarning: Your `PyDataset` class should call `super().__init__(**kwargs)` in its constructor. `**kwargs` can include `workers`, `use_multiprocessing`, `max_queue_size`. Do not pass these arguments to `fit()`, as they will be ignored.\n",
      "  self._warn_if_super_not_called()\n"
     ]
    },
    {
     "name": "stdout",
     "output_type": "stream",
     "text": [
      "\u001b[1m176/176\u001b[0m \u001b[32m━━━━━━━━━━━━━━━━━━━━\u001b[0m\u001b[37m\u001b[0m \u001b[1m126s\u001b[0m 694ms/step - accuracy: 0.4000 - loss: 1.3050 - val_accuracy: 0.4243 - val_loss: 1.2956\n",
      "Epoch 2/70\n",
      "\u001b[1m176/176\u001b[0m \u001b[32m━━━━━━━━━━━━━━━━━━━━\u001b[0m\u001b[37m\u001b[0m \u001b[1m74s\u001b[0m 411ms/step - accuracy: 0.4571 - loss: 1.2569 - val_accuracy: 0.5620 - val_loss: 1.0468\n",
      "Epoch 3/70\n",
      "\u001b[1m176/176\u001b[0m \u001b[32m━━━━━━━━━━━━━━━━━━━━\u001b[0m\u001b[37m\u001b[0m \u001b[1m78s\u001b[0m 439ms/step - accuracy: 0.5582 - loss: 1.0700 - val_accuracy: 0.5815 - val_loss: 1.0216\n",
      "Epoch 4/70\n",
      "\u001b[1m176/176\u001b[0m \u001b[32m━━━━━━━━━━━━━━━━━━━━\u001b[0m\u001b[37m\u001b[0m \u001b[1m59s\u001b[0m 322ms/step - accuracy: 0.6081 - loss: 0.9768 - val_accuracy: 0.6333 - val_loss: 0.9106\n",
      "Epoch 5/70\n",
      "\u001b[1m176/176\u001b[0m \u001b[32m━━━━━━━━━━━━━━━━━━━━\u001b[0m\u001b[37m\u001b[0m \u001b[1m54s\u001b[0m 298ms/step - accuracy: 0.6708 - loss: 0.8664 - val_accuracy: 0.6765 - val_loss: 0.8256\n",
      "Epoch 6/70\n",
      "\u001b[1m176/176\u001b[0m \u001b[32m━━━━━━━━━━━━━━━━━━━━\u001b[0m\u001b[37m\u001b[0m \u001b[1m51s\u001b[0m 285ms/step - accuracy: 0.6982 - loss: 0.7890 - val_accuracy: 0.6574 - val_loss: 0.9138\n",
      "Epoch 7/70\n",
      "\u001b[1m176/176\u001b[0m \u001b[32m━━━━━━━━━━━━━━━━━━━━\u001b[0m\u001b[37m\u001b[0m \u001b[1m53s\u001b[0m 297ms/step - accuracy: 0.7013 - loss: 0.7814 - val_accuracy: 0.7134 - val_loss: 0.7306\n",
      "Epoch 8/70\n",
      "\u001b[1m176/176\u001b[0m \u001b[32m━━━━━━━━━━━━━━━━━━━━\u001b[0m\u001b[37m\u001b[0m \u001b[1m51s\u001b[0m 285ms/step - accuracy: 0.7239 - loss: 0.7194 - val_accuracy: 0.7225 - val_loss: 0.7215\n",
      "Epoch 9/70\n",
      "\u001b[1m176/176\u001b[0m \u001b[32m━━━━━━━━━━━━━━━━━━━━\u001b[0m\u001b[37m\u001b[0m \u001b[1m50s\u001b[0m 278ms/step - accuracy: 0.7461 - loss: 0.6578 - val_accuracy: 0.7445 - val_loss: 0.6472\n",
      "Epoch 10/70\n",
      "\u001b[1m176/176\u001b[0m \u001b[32m━━━━━━━━━━━━━━━━━━━━\u001b[0m\u001b[37m\u001b[0m \u001b[1m49s\u001b[0m 275ms/step - accuracy: 0.7724 - loss: 0.6088 - val_accuracy: 0.7283 - val_loss: 0.6924\n",
      "Epoch 11/70\n",
      "\u001b[1m176/176\u001b[0m \u001b[32m━━━━━━━━━━━━━━━━━━━━\u001b[0m\u001b[37m\u001b[0m \u001b[1m51s\u001b[0m 284ms/step - accuracy: 0.7639 - loss: 0.6120 - val_accuracy: 0.7399 - val_loss: 0.7090\n",
      "Epoch 12/70\n",
      "\u001b[1m176/176\u001b[0m \u001b[32m━━━━━━━━━━━━━━━━━━━━\u001b[0m\u001b[37m\u001b[0m \u001b[1m49s\u001b[0m 274ms/step - accuracy: 0.7824 - loss: 0.5828 - val_accuracy: 0.7677 - val_loss: 0.6251\n",
      "Epoch 13/70\n",
      "\u001b[1m176/176\u001b[0m \u001b[32m━━━━━━━━━━━━━━━━━━━━\u001b[0m\u001b[37m\u001b[0m \u001b[1m49s\u001b[0m 275ms/step - accuracy: 0.7897 - loss: 0.5611 - val_accuracy: 0.7557 - val_loss: 0.6400\n",
      "Epoch 14/70\n",
      "\u001b[1m176/176\u001b[0m \u001b[32m━━━━━━━━━━━━━━━━━━━━\u001b[0m\u001b[37m\u001b[0m \u001b[1m51s\u001b[0m 285ms/step - accuracy: 0.8079 - loss: 0.5185 - val_accuracy: 0.7719 - val_loss: 0.6110\n",
      "Epoch 15/70\n",
      "\u001b[1m176/176\u001b[0m \u001b[32m━━━━━━━━━━━━━━━━━━━━\u001b[0m\u001b[37m\u001b[0m \u001b[1m53s\u001b[0m 295ms/step - accuracy: 0.8106 - loss: 0.5049 - val_accuracy: 0.7735 - val_loss: 0.6326\n",
      "Epoch 16/70\n",
      "\u001b[1m176/176\u001b[0m \u001b[32m━━━━━━━━━━━━━━━━━━━━\u001b[0m\u001b[37m\u001b[0m \u001b[1m51s\u001b[0m 286ms/step - accuracy: 0.8197 - loss: 0.4758 - val_accuracy: 0.7706 - val_loss: 0.6249\n",
      "Epoch 17/70\n",
      "\u001b[1m176/176\u001b[0m \u001b[32m━━━━━━━━━━━━━━━━━━━━\u001b[0m\u001b[37m\u001b[0m \u001b[1m50s\u001b[0m 280ms/step - accuracy: 0.8263 - loss: 0.4681 - val_accuracy: 0.7798 - val_loss: 0.5990\n",
      "Epoch 18/70\n",
      "\u001b[1m176/176\u001b[0m \u001b[32m━━━━━━━━━━━━━━━━━━━━\u001b[0m\u001b[37m\u001b[0m \u001b[1m51s\u001b[0m 282ms/step - accuracy: 0.8435 - loss: 0.4148 - val_accuracy: 0.7769 - val_loss: 0.5932\n",
      "Epoch 19/70\n",
      "\u001b[1m176/176\u001b[0m \u001b[32m━━━━━━━━━━━━━━━━━━━━\u001b[0m\u001b[37m\u001b[0m \u001b[1m51s\u001b[0m 283ms/step - accuracy: 0.8455 - loss: 0.4137 - val_accuracy: 0.7681 - val_loss: 0.6382\n",
      "Epoch 20/70\n",
      "\u001b[1m176/176\u001b[0m \u001b[32m━━━━━━━━━━━━━━━━━━━━\u001b[0m\u001b[37m\u001b[0m \u001b[1m51s\u001b[0m 283ms/step - accuracy: 0.8406 - loss: 0.4363 - val_accuracy: 0.7852 - val_loss: 0.6066\n",
      "Epoch 21/70\n",
      "\u001b[1m176/176\u001b[0m \u001b[32m━━━━━━━━━━━━━━━━━━━━\u001b[0m\u001b[37m\u001b[0m \u001b[1m50s\u001b[0m 279ms/step - accuracy: 0.8542 - loss: 0.4026 - val_accuracy: 0.7897 - val_loss: 0.5826\n",
      "Epoch 22/70\n",
      "\u001b[1m176/176\u001b[0m \u001b[32m━━━━━━━━━━━━━━━━━━━━\u001b[0m\u001b[37m\u001b[0m \u001b[1m51s\u001b[0m 284ms/step - accuracy: 0.8657 - loss: 0.3622 - val_accuracy: 0.7735 - val_loss: 0.6211\n",
      "Epoch 23/70\n",
      "\u001b[1m176/176\u001b[0m \u001b[32m━━━━━━━━━━━━━━━━━━━━\u001b[0m\u001b[37m\u001b[0m \u001b[1m51s\u001b[0m 283ms/step - accuracy: 0.8690 - loss: 0.3566 - val_accuracy: 0.7847 - val_loss: 0.6053\n",
      "Epoch 24/70\n",
      "\u001b[1m176/176\u001b[0m \u001b[32m━━━━━━━━━━━━━━━━━━━━\u001b[0m\u001b[37m\u001b[0m \u001b[1m51s\u001b[0m 286ms/step - accuracy: 0.8760 - loss: 0.3382 - val_accuracy: 0.8030 - val_loss: 0.6100\n",
      "Epoch 25/70\n",
      "\u001b[1m176/176\u001b[0m \u001b[32m━━━━━━━━━━━━━━━━━━━━\u001b[0m\u001b[37m\u001b[0m \u001b[1m52s\u001b[0m 291ms/step - accuracy: 0.8728 - loss: 0.3598 - val_accuracy: 0.7984 - val_loss: 0.5962\n",
      "Epoch 26/70\n",
      "\u001b[1m176/176\u001b[0m \u001b[32m━━━━━━━━━━━━━━━━━━━━\u001b[0m\u001b[37m\u001b[0m \u001b[1m52s\u001b[0m 289ms/step - accuracy: 0.8776 - loss: 0.3310 - val_accuracy: 0.8088 - val_loss: 0.5984\n",
      "Epoch 27/70\n",
      "\u001b[1m176/176\u001b[0m \u001b[32m━━━━━━━━━━━━━━━━━━━━\u001b[0m\u001b[37m\u001b[0m \u001b[1m50s\u001b[0m 282ms/step - accuracy: 0.8848 - loss: 0.3167 - val_accuracy: 0.7876 - val_loss: 0.6209\n",
      "Epoch 28/70\n",
      "\u001b[1m176/176\u001b[0m \u001b[32m━━━━━━━━━━━━━━━━━━━━\u001b[0m\u001b[37m\u001b[0m \u001b[1m51s\u001b[0m 287ms/step - accuracy: 0.8903 - loss: 0.2893 - val_accuracy: 0.7910 - val_loss: 0.6362\n",
      "Epoch 29/70\n",
      "\u001b[1m176/176\u001b[0m \u001b[32m━━━━━━━━━━━━━━━━━━━━\u001b[0m\u001b[37m\u001b[0m \u001b[1m52s\u001b[0m 291ms/step - accuracy: 0.9022 - loss: 0.2802 - val_accuracy: 0.8109 - val_loss: 0.5848\n",
      "Epoch 30/70\n",
      "\u001b[1m176/176\u001b[0m \u001b[32m━━━━━━━━━━━━━━━━━━━━\u001b[0m\u001b[37m\u001b[0m \u001b[1m52s\u001b[0m 290ms/step - accuracy: 0.8833 - loss: 0.2966 - val_accuracy: 0.8121 - val_loss: 0.5777\n",
      "Epoch 31/70\n",
      "\u001b[1m176/176\u001b[0m \u001b[32m━━━━━━━━━━━━━━━━━━━━\u001b[0m\u001b[37m\u001b[0m \u001b[1m52s\u001b[0m 288ms/step - accuracy: 0.9040 - loss: 0.2711 - val_accuracy: 0.7980 - val_loss: 0.6278\n",
      "Epoch 32/70\n",
      "\u001b[1m176/176\u001b[0m \u001b[32m━━━━━━━━━━━━━━━━━━━━\u001b[0m\u001b[37m\u001b[0m \u001b[1m52s\u001b[0m 289ms/step - accuracy: 0.9041 - loss: 0.2710 - val_accuracy: 0.8001 - val_loss: 0.6143\n",
      "Epoch 33/70\n",
      "\u001b[1m176/176\u001b[0m \u001b[32m━━━━━━━━━━━━━━━━━━━━\u001b[0m\u001b[37m\u001b[0m \u001b[1m53s\u001b[0m 297ms/step - accuracy: 0.8935 - loss: 0.3003 - val_accuracy: 0.8105 - val_loss: 0.6165\n",
      "Epoch 34/70\n",
      "\u001b[1m176/176\u001b[0m \u001b[32m━━━━━━━━━━━━━━━━━━━━\u001b[0m\u001b[37m\u001b[0m \u001b[1m52s\u001b[0m 290ms/step - accuracy: 0.9091 - loss: 0.2444 - val_accuracy: 0.8088 - val_loss: 0.6235\n",
      "Epoch 35/70\n",
      "\u001b[1m176/176\u001b[0m \u001b[32m━━━━━━━━━━━━━━━━━━━━\u001b[0m\u001b[37m\u001b[0m \u001b[1m53s\u001b[0m 299ms/step - accuracy: 0.9198 - loss: 0.2269 - val_accuracy: 0.7752 - val_loss: 0.6562\n",
      "Epoch 36/70\n",
      "\u001b[1m176/176\u001b[0m \u001b[32m━━━━━━━━━━━━━━━━━━━━\u001b[0m\u001b[37m\u001b[0m \u001b[1m51s\u001b[0m 285ms/step - accuracy: 0.9115 - loss: 0.2525 - val_accuracy: 0.8125 - val_loss: 0.6000\n",
      "Epoch 37/70\n",
      "\u001b[1m176/176\u001b[0m \u001b[32m━━━━━━━━━━━━━━━━━━━━\u001b[0m\u001b[37m\u001b[0m \u001b[1m51s\u001b[0m 288ms/step - accuracy: 0.9163 - loss: 0.2325 - val_accuracy: 0.8013 - val_loss: 0.6176\n",
      "Epoch 38/70\n",
      "\u001b[1m176/176\u001b[0m \u001b[32m━━━━━━━━━━━━━━━━━━━━\u001b[0m\u001b[37m\u001b[0m \u001b[1m51s\u001b[0m 285ms/step - accuracy: 0.9253 - loss: 0.2112 - val_accuracy: 0.8100 - val_loss: 0.6194\n",
      "Epoch 39/70\n",
      "\u001b[1m176/176\u001b[0m \u001b[32m━━━━━━━━━━━━━━━━━━━━\u001b[0m\u001b[37m\u001b[0m \u001b[1m52s\u001b[0m 292ms/step - accuracy: 0.9318 - loss: 0.1931 - val_accuracy: 0.7964 - val_loss: 0.6683\n",
      "Epoch 40/70\n",
      "\u001b[1m176/176\u001b[0m \u001b[32m━━━━━━━━━━━━━━━━━━━━\u001b[0m\u001b[37m\u001b[0m \u001b[1m52s\u001b[0m 293ms/step - accuracy: 0.9154 - loss: 0.2275 - val_accuracy: 0.8001 - val_loss: 0.6333\n",
      "Epoch 41/70\n",
      "\u001b[1m176/176\u001b[0m \u001b[32m━━━━━━━━━━━━━━━━━━━━\u001b[0m\u001b[37m\u001b[0m \u001b[1m52s\u001b[0m 293ms/step - accuracy: 0.9220 - loss: 0.2036 - val_accuracy: 0.8075 - val_loss: 0.6239\n",
      "Epoch 42/70\n",
      "\u001b[1m176/176\u001b[0m \u001b[32m━━━━━━━━━━━━━━━━━━━━\u001b[0m\u001b[37m\u001b[0m \u001b[1m53s\u001b[0m 295ms/step - accuracy: 0.9278 - loss: 0.1966 - val_accuracy: 0.8183 - val_loss: 0.6551\n",
      "Epoch 43/70\n",
      "\u001b[1m176/176\u001b[0m \u001b[32m━━━━━━━━━━━━━━━━━━━━\u001b[0m\u001b[37m\u001b[0m \u001b[1m53s\u001b[0m 300ms/step - accuracy: 0.9331 - loss: 0.1811 - val_accuracy: 0.8192 - val_loss: 0.6385\n",
      "Epoch 44/70\n",
      "\u001b[1m176/176\u001b[0m \u001b[32m━━━━━━━━━━━━━━━━━━━━\u001b[0m\u001b[37m\u001b[0m \u001b[1m53s\u001b[0m 293ms/step - accuracy: 0.9426 - loss: 0.1681 - val_accuracy: 0.8009 - val_loss: 0.6752\n",
      "Epoch 45/70\n",
      "\u001b[1m176/176\u001b[0m \u001b[32m━━━━━━━━━━━━━━━━━━━━\u001b[0m\u001b[37m\u001b[0m \u001b[1m53s\u001b[0m 293ms/step - accuracy: 0.9379 - loss: 0.1675 - val_accuracy: 0.8117 - val_loss: 0.7186\n",
      "Epoch 46/70\n",
      "\u001b[1m176/176\u001b[0m \u001b[32m━━━━━━━━━━━━━━━━━━━━\u001b[0m\u001b[37m\u001b[0m \u001b[1m53s\u001b[0m 296ms/step - accuracy: 0.9264 - loss: 0.2176 - val_accuracy: 0.8121 - val_loss: 0.6433\n",
      "Epoch 47/70\n",
      "\u001b[1m176/176\u001b[0m \u001b[32m━━━━━━━━━━━━━━━━━━━━\u001b[0m\u001b[37m\u001b[0m \u001b[1m53s\u001b[0m 295ms/step - accuracy: 0.9420 - loss: 0.1709 - val_accuracy: 0.8088 - val_loss: 0.7543\n",
      "Epoch 48/70\n",
      "\u001b[1m176/176\u001b[0m \u001b[32m━━━━━━━━━━━━━━━━━━━━\u001b[0m\u001b[37m\u001b[0m \u001b[1m53s\u001b[0m 295ms/step - accuracy: 0.9437 - loss: 0.1640 - val_accuracy: 0.8146 - val_loss: 0.6848\n",
      "Epoch 49/70\n",
      "\u001b[1m176/176\u001b[0m \u001b[32m━━━━━━━━━━━━━━━━━━━━\u001b[0m\u001b[37m\u001b[0m \u001b[1m54s\u001b[0m 302ms/step - accuracy: 0.9398 - loss: 0.1659 - val_accuracy: 0.8171 - val_loss: 0.6642\n",
      "Epoch 50/70\n",
      "\u001b[1m176/176\u001b[0m \u001b[32m━━━━━━━━━━━━━━━━━━━━\u001b[0m\u001b[37m\u001b[0m \u001b[1m53s\u001b[0m 295ms/step - accuracy: 0.9467 - loss: 0.1501 - val_accuracy: 0.8009 - val_loss: 0.8057\n",
      "Epoch 51/70\n",
      "\u001b[1m176/176\u001b[0m \u001b[32m━━━━━━━━━━━━━━━━━━━━\u001b[0m\u001b[37m\u001b[0m \u001b[1m56s\u001b[0m 312ms/step - accuracy: 0.9452 - loss: 0.1568 - val_accuracy: 0.8092 - val_loss: 0.7683\n",
      "Epoch 52/70\n",
      "\u001b[1m176/176\u001b[0m \u001b[32m━━━━━━━━━━━━━━━━━━━━\u001b[0m\u001b[37m\u001b[0m \u001b[1m54s\u001b[0m 303ms/step - accuracy: 0.9415 - loss: 0.1594 - val_accuracy: 0.8349 - val_loss: 0.6420\n",
      "Epoch 53/70\n",
      "\u001b[1m176/176\u001b[0m \u001b[32m━━━━━━━━━━━━━━━━━━━━\u001b[0m\u001b[37m\u001b[0m \u001b[1m54s\u001b[0m 302ms/step - accuracy: 0.9414 - loss: 0.1527 - val_accuracy: 0.8092 - val_loss: 0.7348\n",
      "Epoch 54/70\n",
      "\u001b[1m176/176\u001b[0m \u001b[32m━━━━━━━━━━━━━━━━━━━━\u001b[0m\u001b[37m\u001b[0m \u001b[1m53s\u001b[0m 298ms/step - accuracy: 0.9487 - loss: 0.1466 - val_accuracy: 0.7934 - val_loss: 0.7427\n",
      "Epoch 55/70\n",
      "\u001b[1m176/176\u001b[0m \u001b[32m━━━━━━━━━━━━━━━━━━━━\u001b[0m\u001b[37m\u001b[0m \u001b[1m53s\u001b[0m 293ms/step - accuracy: 0.9421 - loss: 0.1625 - val_accuracy: 0.8034 - val_loss: 0.7056\n",
      "Epoch 56/70\n",
      "\u001b[1m176/176\u001b[0m \u001b[32m━━━━━━━━━━━━━━━━━━━━\u001b[0m\u001b[37m\u001b[0m \u001b[1m53s\u001b[0m 294ms/step - accuracy: 0.9405 - loss: 0.1508 - val_accuracy: 0.8154 - val_loss: 0.7357\n",
      "Epoch 57/70\n",
      "\u001b[1m176/176\u001b[0m \u001b[32m━━━━━━━━━━━━━━━━━━━━\u001b[0m\u001b[37m\u001b[0m \u001b[1m52s\u001b[0m 294ms/step - accuracy: 0.9430 - loss: 0.1690 - val_accuracy: 0.7843 - val_loss: 0.8465\n",
      "Epoch 58/70\n",
      "\u001b[1m176/176\u001b[0m \u001b[32m━━━━━━━━━━━━━━━━━━━━\u001b[0m\u001b[37m\u001b[0m \u001b[1m54s\u001b[0m 303ms/step - accuracy: 0.9472 - loss: 0.1404 - val_accuracy: 0.8266 - val_loss: 0.7106\n",
      "Epoch 59/70\n",
      "\u001b[1m176/176\u001b[0m \u001b[32m━━━━━━━━━━━━━━━━━━━━\u001b[0m\u001b[37m\u001b[0m \u001b[1m56s\u001b[0m 314ms/step - accuracy: 0.9498 - loss: 0.1457 - val_accuracy: 0.8175 - val_loss: 0.6590\n",
      "Epoch 60/70\n",
      "\u001b[1m176/176\u001b[0m \u001b[32m━━━━━━━━━━━━━━━━━━━━\u001b[0m\u001b[37m\u001b[0m \u001b[1m56s\u001b[0m 313ms/step - accuracy: 0.9600 - loss: 0.1339 - val_accuracy: 0.8030 - val_loss: 0.8006\n",
      "Epoch 61/70\n",
      "\u001b[1m176/176\u001b[0m \u001b[32m━━━━━━━━━━━━━━━━━━━━\u001b[0m\u001b[37m\u001b[0m \u001b[1m55s\u001b[0m 309ms/step - accuracy: 0.9432 - loss: 0.1513 - val_accuracy: 0.8171 - val_loss: 0.7460\n",
      "Epoch 62/70\n",
      "\u001b[1m176/176\u001b[0m \u001b[32m━━━━━━━━━━━━━━━━━━━━\u001b[0m\u001b[37m\u001b[0m \u001b[1m56s\u001b[0m 311ms/step - accuracy: 0.9554 - loss: 0.1351 - val_accuracy: 0.8196 - val_loss: 0.6935\n",
      "Epoch 63/70\n",
      "\u001b[1m176/176\u001b[0m \u001b[32m━━━━━━━━━━━━━━━━━━━━\u001b[0m\u001b[37m\u001b[0m \u001b[1m56s\u001b[0m 312ms/step - accuracy: 0.9574 - loss: 0.1231 - val_accuracy: 0.8084 - val_loss: 0.7839\n",
      "Epoch 64/70\n",
      "\u001b[1m176/176\u001b[0m \u001b[32m━━━━━━━━━━━━━━━━━━━━\u001b[0m\u001b[37m\u001b[0m \u001b[1m55s\u001b[0m 306ms/step - accuracy: 0.9608 - loss: 0.1098 - val_accuracy: 0.8142 - val_loss: 0.7104\n",
      "Epoch 65/70\n",
      "\u001b[1m176/176\u001b[0m \u001b[32m━━━━━━━━━━━━━━━━━━━━\u001b[0m\u001b[37m\u001b[0m \u001b[1m56s\u001b[0m 312ms/step - accuracy: 0.9479 - loss: 0.1384 - val_accuracy: 0.8212 - val_loss: 0.7662\n",
      "Epoch 66/70\n",
      "\u001b[1m176/176\u001b[0m \u001b[32m━━━━━━━━━━━━━━━━━━━━\u001b[0m\u001b[37m\u001b[0m \u001b[1m56s\u001b[0m 315ms/step - accuracy: 0.9619 - loss: 0.1254 - val_accuracy: 0.8138 - val_loss: 0.7439\n",
      "Epoch 67/70\n",
      "\u001b[1m176/176\u001b[0m \u001b[32m━━━━━━━━━━━━━━━━━━━━\u001b[0m\u001b[37m\u001b[0m \u001b[1m57s\u001b[0m 316ms/step - accuracy: 0.9572 - loss: 0.1331 - val_accuracy: 0.8100 - val_loss: 0.7967\n",
      "Epoch 68/70\n",
      "\u001b[1m176/176\u001b[0m \u001b[32m━━━━━━━━━━━━━━━━━━━━\u001b[0m\u001b[37m\u001b[0m \u001b[1m56s\u001b[0m 312ms/step - accuracy: 0.9690 - loss: 0.1038 - val_accuracy: 0.8013 - val_loss: 0.8275\n",
      "Epoch 69/70\n",
      "\u001b[1m176/176\u001b[0m \u001b[32m━━━━━━━━━━━━━━━━━━━━\u001b[0m\u001b[37m\u001b[0m \u001b[1m56s\u001b[0m 310ms/step - accuracy: 0.9687 - loss: 0.0919 - val_accuracy: 0.7959 - val_loss: 0.8037\n",
      "Epoch 70/70\n",
      "\u001b[1m176/176\u001b[0m \u001b[32m━━━━━━━━━━━━━━━━━━━━\u001b[0m\u001b[37m\u001b[0m \u001b[1m55s\u001b[0m 305ms/step - accuracy: 0.9615 - loss: 0.1015 - val_accuracy: 0.8105 - val_loss: 0.8211\n",
      "\u001b[1m76/76\u001b[0m \u001b[32m━━━━━━━━━━━━━━━━━━━━\u001b[0m\u001b[37m\u001b[0m \u001b[1m12s\u001b[0m 153ms/step - accuracy: 0.8196 - loss: 0.6938\n",
      "Validation accuracy: 0.8154\n"
     ]
    }
   ],
   "source": [
    "history = model.fit(\n",
    "    train_generator,\n",
    "    epochs=70,\n",
    "    validation_data = validation_generator)\n",
    "val_loss, val_accuracy = model.evaluate(validation_generator, verbose=1)\n",
    "print(f'Validation accuracy: {val_accuracy:.4f}')"
   ]
  },
  {
   "cell_type": "code",
   "execution_count": 10,
   "metadata": {},
   "outputs": [
    {
     "name": "stderr",
     "output_type": "stream",
     "text": [
      "WARNING:absl:You are saving your model as an HDF5 file via `model.save()` or `keras.saving.save_model(model)`. This file format is considered legacy. We recommend using instead the native Keras format, e.g. `model.save('my_model.keras')` or `keras.saving.save_model(model, 'my_model.keras')`. \n"
     ]
    }
   ],
   "source": [
    "model.save('model.h5')"
   ]
  },
  {
   "cell_type": "code",
   "execution_count": 11,
   "metadata": {},
   "outputs": [
    {
     "name": "stderr",
     "output_type": "stream",
     "text": [
      "WARNING:absl:Compiled the loaded model, but the compiled metrics have yet to be built. `model.compile_metrics` will be empty until you train or evaluate the model.\n"
     ]
    }
   ],
   "source": [
    "loaded_model = models.load_model('model.h5')"
   ]
  },
  {
   "cell_type": "code",
   "execution_count": 12,
   "metadata": {},
   "outputs": [
    {
     "name": "stdout",
     "output_type": "stream",
     "text": [
      "Found 2416 images belonging to 4 classes.\n",
      "Found 1033 images belonging to 4 classes.\n"
     ]
    }
   ],
   "source": [
    "train_generator_1 = datagen.flow_from_directory(\n",
    "    'C:\\\\Users\\\\thinh\\\\Downloads\\\\Datasetandrequirement\\\\split_data\\\\data_2',\n",
    "    target_size=(150, 150),\n",
    "    batch_size=32,\n",
    "    class_mode='sparse',\n",
    "    subset='training',\n",
    "    color_mode='rgb',\n",
    "    seed=42,\n",
    "    interpolation='nearest'\n",
    ")\n",
    "\n",
    "validation_generator_1 = datagen.flow_from_directory(\n",
    "    'C:\\\\Users\\\\thinh\\\\Downloads\\\\Datasetandrequirement\\\\split_data\\\\data_2',\n",
    "    target_size=(150, 150),\n",
    "    batch_size=32,\n",
    "    class_mode='sparse',\n",
    "    subset='validation',\n",
    "    color_mode='rgb',\n",
    "    seed=42,\n",
    "    interpolation='nearest'\n",
    ")"
   ]
  },
  {
   "cell_type": "code",
   "execution_count": 13,
   "metadata": {},
   "outputs": [],
   "source": [
    "loaded_model.compile(optimizer=Adam(learning_rate=0.001),\n",
    "                loss='sparse_categorical_crossentropy',\n",
    "                metrics=['accuracy'])"
   ]
  },
  {
   "cell_type": "code",
   "execution_count": 14,
   "metadata": {},
   "outputs": [
    {
     "name": "stdout",
     "output_type": "stream",
     "text": [
      "Epoch 1/50\n",
      "\u001b[1m76/76\u001b[0m \u001b[32m━━━━━━━━━━━━━━━━━━━━\u001b[0m\u001b[37m\u001b[0m \u001b[1m47s\u001b[0m 566ms/step - accuracy: 0.8076 - loss: 0.6640 - val_accuracy: 0.8209 - val_loss: 0.4925\n",
      "Epoch 2/50\n",
      "\u001b[1m76/76\u001b[0m \u001b[32m━━━━━━━━━━━━━━━━━━━━\u001b[0m\u001b[37m\u001b[0m \u001b[1m25s\u001b[0m 316ms/step - accuracy: 0.8395 - loss: 0.4116 - val_accuracy: 0.8248 - val_loss: 0.5138\n",
      "Epoch 3/50\n",
      "\u001b[1m76/76\u001b[0m \u001b[32m━━━━━━━━━━━━━━━━━━━━\u001b[0m\u001b[37m\u001b[0m \u001b[1m25s\u001b[0m 312ms/step - accuracy: 0.8547 - loss: 0.4096 - val_accuracy: 0.8267 - val_loss: 0.4821\n",
      "Epoch 4/50\n",
      "\u001b[1m76/76\u001b[0m \u001b[32m━━━━━━━━━━━━━━━━━━━━\u001b[0m\u001b[37m\u001b[0m \u001b[1m25s\u001b[0m 312ms/step - accuracy: 0.8509 - loss: 0.3880 - val_accuracy: 0.8364 - val_loss: 0.4886\n",
      "Epoch 5/50\n",
      "\u001b[1m76/76\u001b[0m \u001b[32m━━━━━━━━━━━━━━━━━━━━\u001b[0m\u001b[37m\u001b[0m \u001b[1m25s\u001b[0m 320ms/step - accuracy: 0.8725 - loss: 0.3456 - val_accuracy: 0.8316 - val_loss: 0.5230\n",
      "Epoch 6/50\n",
      "\u001b[1m76/76\u001b[0m \u001b[32m━━━━━━━━━━━━━━━━━━━━\u001b[0m\u001b[37m\u001b[0m \u001b[1m25s\u001b[0m 314ms/step - accuracy: 0.8809 - loss: 0.3395 - val_accuracy: 0.8296 - val_loss: 0.5009\n",
      "Epoch 7/50\n",
      "\u001b[1m76/76\u001b[0m \u001b[32m━━━━━━━━━━━━━━━━━━━━\u001b[0m\u001b[37m\u001b[0m \u001b[1m25s\u001b[0m 316ms/step - accuracy: 0.8939 - loss: 0.3067 - val_accuracy: 0.8412 - val_loss: 0.4724\n",
      "Epoch 8/50\n",
      "\u001b[1m76/76\u001b[0m \u001b[32m━━━━━━━━━━━━━━━━━━━━\u001b[0m\u001b[37m\u001b[0m \u001b[1m25s\u001b[0m 311ms/step - accuracy: 0.9013 - loss: 0.2801 - val_accuracy: 0.8374 - val_loss: 0.4984\n",
      "Epoch 9/50\n",
      "\u001b[1m76/76\u001b[0m \u001b[32m━━━━━━━━━━━━━━━━━━━━\u001b[0m\u001b[37m\u001b[0m \u001b[1m25s\u001b[0m 312ms/step - accuracy: 0.9059 - loss: 0.2804 - val_accuracy: 0.8364 - val_loss: 0.4827\n",
      "Epoch 10/50\n",
      "\u001b[1m76/76\u001b[0m \u001b[32m━━━━━━━━━━━━━━━━━━━━\u001b[0m\u001b[37m\u001b[0m \u001b[1m24s\u001b[0m 302ms/step - accuracy: 0.8952 - loss: 0.2975 - val_accuracy: 0.8364 - val_loss: 0.5155\n",
      "Epoch 11/50\n",
      "\u001b[1m76/76\u001b[0m \u001b[32m━━━━━━━━━━━━━━━━━━━━\u001b[0m\u001b[37m\u001b[0m \u001b[1m25s\u001b[0m 315ms/step - accuracy: 0.9204 - loss: 0.2276 - val_accuracy: 0.8354 - val_loss: 0.4913\n",
      "Epoch 12/50\n",
      "\u001b[1m76/76\u001b[0m \u001b[32m━━━━━━━━━━━━━━━━━━━━\u001b[0m\u001b[37m\u001b[0m \u001b[1m26s\u001b[0m 330ms/step - accuracy: 0.9132 - loss: 0.2365 - val_accuracy: 0.8374 - val_loss: 0.5938\n",
      "Epoch 13/50\n",
      "\u001b[1m76/76\u001b[0m \u001b[32m━━━━━━━━━━━━━━━━━━━━\u001b[0m\u001b[37m\u001b[0m \u001b[1m26s\u001b[0m 320ms/step - accuracy: 0.9180 - loss: 0.2433 - val_accuracy: 0.8296 - val_loss: 0.5830\n",
      "Epoch 14/50\n",
      "\u001b[1m76/76\u001b[0m \u001b[32m━━━━━━━━━━━━━━━━━━━━\u001b[0m\u001b[37m\u001b[0m \u001b[1m25s\u001b[0m 316ms/step - accuracy: 0.9226 - loss: 0.2092 - val_accuracy: 0.8248 - val_loss: 0.5407\n",
      "Epoch 15/50\n",
      "\u001b[1m76/76\u001b[0m \u001b[32m━━━━━━━━━━━━━━━━━━━━\u001b[0m\u001b[37m\u001b[0m \u001b[1m26s\u001b[0m 324ms/step - accuracy: 0.9341 - loss: 0.1907 - val_accuracy: 0.8306 - val_loss: 0.6288\n",
      "Epoch 16/50\n",
      "\u001b[1m76/76\u001b[0m \u001b[32m━━━━━━━━━━━━━━━━━━━━\u001b[0m\u001b[37m\u001b[0m \u001b[1m26s\u001b[0m 332ms/step - accuracy: 0.9365 - loss: 0.1856 - val_accuracy: 0.8306 - val_loss: 0.5458\n",
      "Epoch 17/50\n",
      "\u001b[1m76/76\u001b[0m \u001b[32m━━━━━━━━━━━━━━━━━━━━\u001b[0m\u001b[37m\u001b[0m \u001b[1m25s\u001b[0m 316ms/step - accuracy: 0.9269 - loss: 0.1981 - val_accuracy: 0.8306 - val_loss: 0.5373\n",
      "Epoch 18/50\n",
      "\u001b[1m76/76\u001b[0m \u001b[32m━━━━━━━━━━━━━━━━━━━━\u001b[0m\u001b[37m\u001b[0m \u001b[1m26s\u001b[0m 323ms/step - accuracy: 0.9352 - loss: 0.1916 - val_accuracy: 0.8354 - val_loss: 0.5740\n",
      "Epoch 19/50\n",
      "\u001b[1m76/76\u001b[0m \u001b[32m━━━━━━━━━━━━━━━━━━━━\u001b[0m\u001b[37m\u001b[0m \u001b[1m25s\u001b[0m 315ms/step - accuracy: 0.9352 - loss: 0.1823 - val_accuracy: 0.8364 - val_loss: 0.6699\n",
      "Epoch 20/50\n",
      "\u001b[1m76/76\u001b[0m \u001b[32m━━━━━━━━━━━━━━━━━━━━\u001b[0m\u001b[37m\u001b[0m \u001b[1m25s\u001b[0m 312ms/step - accuracy: 0.9305 - loss: 0.2002 - val_accuracy: 0.8383 - val_loss: 0.6039\n",
      "Epoch 21/50\n",
      "\u001b[1m76/76\u001b[0m \u001b[32m━━━━━━━━━━━━━━━━━━━━\u001b[0m\u001b[37m\u001b[0m \u001b[1m25s\u001b[0m 319ms/step - accuracy: 0.9537 - loss: 0.1528 - val_accuracy: 0.8383 - val_loss: 0.6891\n",
      "Epoch 22/50\n",
      "\u001b[1m76/76\u001b[0m \u001b[32m━━━━━━━━━━━━━━━━━━━━\u001b[0m\u001b[37m\u001b[0m \u001b[1m25s\u001b[0m 319ms/step - accuracy: 0.9348 - loss: 0.1660 - val_accuracy: 0.8122 - val_loss: 0.7559\n",
      "Epoch 23/50\n",
      "\u001b[1m76/76\u001b[0m \u001b[32m━━━━━━━━━━━━━━━━━━━━\u001b[0m\u001b[37m\u001b[0m \u001b[1m25s\u001b[0m 309ms/step - accuracy: 0.9329 - loss: 0.1963 - val_accuracy: 0.8199 - val_loss: 0.6938\n",
      "Epoch 24/50\n",
      "\u001b[1m76/76\u001b[0m \u001b[32m━━━━━━━━━━━━━━━━━━━━\u001b[0m\u001b[37m\u001b[0m \u001b[1m25s\u001b[0m 310ms/step - accuracy: 0.9444 - loss: 0.1612 - val_accuracy: 0.8470 - val_loss: 0.6275\n",
      "Epoch 25/50\n",
      "\u001b[1m76/76\u001b[0m \u001b[32m━━━━━━━━━━━━━━━━━━━━\u001b[0m\u001b[37m\u001b[0m \u001b[1m25s\u001b[0m 322ms/step - accuracy: 0.9542 - loss: 0.1328 - val_accuracy: 0.8161 - val_loss: 0.7024\n",
      "Epoch 26/50\n",
      "\u001b[1m76/76\u001b[0m \u001b[32m━━━━━━━━━━━━━━━━━━━━\u001b[0m\u001b[37m\u001b[0m \u001b[1m26s\u001b[0m 327ms/step - accuracy: 0.9445 - loss: 0.1638 - val_accuracy: 0.8103 - val_loss: 0.7195\n",
      "Epoch 27/50\n",
      "\u001b[1m76/76\u001b[0m \u001b[32m━━━━━━━━━━━━━━━━━━━━\u001b[0m\u001b[37m\u001b[0m \u001b[1m24s\u001b[0m 301ms/step - accuracy: 0.9380 - loss: 0.1700 - val_accuracy: 0.8335 - val_loss: 0.6550\n",
      "Epoch 28/50\n",
      "\u001b[1m76/76\u001b[0m \u001b[32m━━━━━━━━━━━━━━━━━━━━\u001b[0m\u001b[37m\u001b[0m \u001b[1m25s\u001b[0m 313ms/step - accuracy: 0.9517 - loss: 0.1491 - val_accuracy: 0.8306 - val_loss: 0.7454\n",
      "Epoch 29/50\n",
      "\u001b[1m76/76\u001b[0m \u001b[32m━━━━━━━━━━━━━━━━━━━━\u001b[0m\u001b[37m\u001b[0m \u001b[1m24s\u001b[0m 305ms/step - accuracy: 0.9507 - loss: 0.1406 - val_accuracy: 0.8345 - val_loss: 0.8789\n",
      "Epoch 30/50\n",
      "\u001b[1m76/76\u001b[0m \u001b[32m━━━━━━━━━━━━━━━━━━━━\u001b[0m\u001b[37m\u001b[0m \u001b[1m25s\u001b[0m 311ms/step - accuracy: 0.9407 - loss: 0.1771 - val_accuracy: 0.8267 - val_loss: 0.6650\n",
      "Epoch 31/50\n",
      "\u001b[1m76/76\u001b[0m \u001b[32m━━━━━━━━━━━━━━━━━━━━\u001b[0m\u001b[37m\u001b[0m \u001b[1m24s\u001b[0m 307ms/step - accuracy: 0.9499 - loss: 0.1368 - val_accuracy: 0.8287 - val_loss: 0.7145\n",
      "Epoch 32/50\n",
      "\u001b[1m76/76\u001b[0m \u001b[32m━━━━━━━━━━━━━━━━━━━━\u001b[0m\u001b[37m\u001b[0m \u001b[1m25s\u001b[0m 309ms/step - accuracy: 0.9653 - loss: 0.1205 - val_accuracy: 0.8354 - val_loss: 0.6835\n",
      "Epoch 33/50\n",
      "\u001b[1m76/76\u001b[0m \u001b[32m━━━━━━━━━━━━━━━━━━━━\u001b[0m\u001b[37m\u001b[0m \u001b[1m25s\u001b[0m 309ms/step - accuracy: 0.9522 - loss: 0.1216 - val_accuracy: 0.8383 - val_loss: 0.7016\n",
      "Epoch 34/50\n",
      "\u001b[1m76/76\u001b[0m \u001b[32m━━━━━━━━━━━━━━━━━━━━\u001b[0m\u001b[37m\u001b[0m \u001b[1m25s\u001b[0m 311ms/step - accuracy: 0.9597 - loss: 0.1117 - val_accuracy: 0.8325 - val_loss: 0.8433\n",
      "Epoch 35/50\n",
      "\u001b[1m76/76\u001b[0m \u001b[32m━━━━━━━━━━━━━━━━━━━━\u001b[0m\u001b[37m\u001b[0m \u001b[1m25s\u001b[0m 315ms/step - accuracy: 0.9516 - loss: 0.1467 - val_accuracy: 0.8316 - val_loss: 0.6982\n",
      "Epoch 36/50\n",
      "\u001b[1m76/76\u001b[0m \u001b[32m━━━━━━━━━━━━━━━━━━━━\u001b[0m\u001b[37m\u001b[0m \u001b[1m25s\u001b[0m 309ms/step - accuracy: 0.9661 - loss: 0.1043 - val_accuracy: 0.8190 - val_loss: 0.7890\n",
      "Epoch 37/50\n",
      "\u001b[1m76/76\u001b[0m \u001b[32m━━━━━━━━━━━━━━━━━━━━\u001b[0m\u001b[37m\u001b[0m \u001b[1m25s\u001b[0m 310ms/step - accuracy: 0.9570 - loss: 0.1359 - val_accuracy: 0.8325 - val_loss: 0.6893\n",
      "Epoch 38/50\n",
      "\u001b[1m76/76\u001b[0m \u001b[32m━━━━━━━━━━━━━━━━━━━━\u001b[0m\u001b[37m\u001b[0m \u001b[1m25s\u001b[0m 310ms/step - accuracy: 0.9604 - loss: 0.1228 - val_accuracy: 0.8287 - val_loss: 0.7470\n",
      "Epoch 39/50\n",
      "\u001b[1m76/76\u001b[0m \u001b[32m━━━━━━━━━━━━━━━━━━━━\u001b[0m\u001b[37m\u001b[0m \u001b[1m24s\u001b[0m 308ms/step - accuracy: 0.9706 - loss: 0.0907 - val_accuracy: 0.8374 - val_loss: 0.8100\n",
      "Epoch 40/50\n",
      "\u001b[1m76/76\u001b[0m \u001b[32m━━━━━━━━━━━━━━━━━━━━\u001b[0m\u001b[37m\u001b[0m \u001b[1m25s\u001b[0m 314ms/step - accuracy: 0.9668 - loss: 0.0927 - val_accuracy: 0.8180 - val_loss: 0.8009\n",
      "Epoch 41/50\n",
      "\u001b[1m76/76\u001b[0m \u001b[32m━━━━━━━━━━━━━━━━━━━━\u001b[0m\u001b[37m\u001b[0m \u001b[1m25s\u001b[0m 316ms/step - accuracy: 0.9626 - loss: 0.0955 - val_accuracy: 0.8238 - val_loss: 0.8243\n",
      "Epoch 42/50\n",
      "\u001b[1m76/76\u001b[0m \u001b[32m━━━━━━━━━━━━━━━━━━━━\u001b[0m\u001b[37m\u001b[0m \u001b[1m24s\u001b[0m 308ms/step - accuracy: 0.9617 - loss: 0.1133 - val_accuracy: 0.8306 - val_loss: 0.6542\n",
      "Epoch 43/50\n",
      "\u001b[1m76/76\u001b[0m \u001b[32m━━━━━━━━━━━━━━━━━━━━\u001b[0m\u001b[37m\u001b[0m \u001b[1m25s\u001b[0m 311ms/step - accuracy: 0.9724 - loss: 0.0806 - val_accuracy: 0.8296 - val_loss: 0.7693\n",
      "Epoch 44/50\n",
      "\u001b[1m76/76\u001b[0m \u001b[32m━━━━━━━━━━━━━━━━━━━━\u001b[0m\u001b[37m\u001b[0m \u001b[1m26s\u001b[0m 327ms/step - accuracy: 0.9758 - loss: 0.0716 - val_accuracy: 0.8170 - val_loss: 1.0423\n",
      "Epoch 45/50\n",
      "\u001b[1m76/76\u001b[0m \u001b[32m━━━━━━━━━━━━━━━━━━━━\u001b[0m\u001b[37m\u001b[0m \u001b[1m25s\u001b[0m 316ms/step - accuracy: 0.9790 - loss: 0.0861 - val_accuracy: 0.8432 - val_loss: 0.8506\n",
      "Epoch 46/50\n",
      "\u001b[1m76/76\u001b[0m \u001b[32m━━━━━━━━━━━━━━━━━━━━\u001b[0m\u001b[37m\u001b[0m \u001b[1m25s\u001b[0m 311ms/step - accuracy: 0.9655 - loss: 0.1066 - val_accuracy: 0.8461 - val_loss: 0.6625\n",
      "Epoch 47/50\n",
      "\u001b[1m76/76\u001b[0m \u001b[32m━━━━━━━━━━━━━━━━━━━━\u001b[0m\u001b[37m\u001b[0m \u001b[1m24s\u001b[0m 308ms/step - accuracy: 0.9720 - loss: 0.0742 - val_accuracy: 0.8480 - val_loss: 0.7836\n",
      "Epoch 48/50\n",
      "\u001b[1m76/76\u001b[0m \u001b[32m━━━━━━━━━━━━━━━━━━━━\u001b[0m\u001b[37m\u001b[0m \u001b[1m25s\u001b[0m 313ms/step - accuracy: 0.9713 - loss: 0.0936 - val_accuracy: 0.8258 - val_loss: 0.7032\n",
      "Epoch 49/50\n",
      "\u001b[1m76/76\u001b[0m \u001b[32m━━━━━━━━━━━━━━━━━━━━\u001b[0m\u001b[37m\u001b[0m \u001b[1m25s\u001b[0m 308ms/step - accuracy: 0.9703 - loss: 0.0880 - val_accuracy: 0.8345 - val_loss: 0.7537\n",
      "Epoch 50/50\n",
      "\u001b[1m76/76\u001b[0m \u001b[32m━━━━━━━━━━━━━━━━━━━━\u001b[0m\u001b[37m\u001b[0m \u001b[1m25s\u001b[0m 318ms/step - accuracy: 0.9710 - loss: 0.0895 - val_accuracy: 0.8325 - val_loss: 0.7193\n",
      "\u001b[1m33/33\u001b[0m \u001b[32m━━━━━━━━━━━━━━━━━━━━\u001b[0m\u001b[37m\u001b[0m \u001b[1m5s\u001b[0m 146ms/step - accuracy: 0.8143 - loss: 0.7417\n",
      "Validation accuracy: 0.8083\n"
     ]
    }
   ],
   "source": [
    "history = loaded_model.fit(\n",
    "    train_generator_1,\n",
    "    epochs=50,\n",
    "    validation_data = validation_generator_1)\n",
    "val_loss, val_accuracy = model.evaluate(validation_generator_1, verbose=1)\n",
    "print(f'Validation accuracy: {val_accuracy:.4f}')"
   ]
  }
 ],
 "metadata": {
  "kernelspec": {
   "display_name": "Python 3",
   "language": "python",
   "name": "python3"
  },
  "language_info": {
   "codemirror_mode": {
    "name": "ipython",
    "version": 3
   },
   "file_extension": ".py",
   "mimetype": "text/x-python",
   "name": "python",
   "nbconvert_exporter": "python",
   "pygments_lexer": "ipython3",
   "version": "3.11.9"
  }
 },
 "nbformat": 4,
 "nbformat_minor": 2
}
