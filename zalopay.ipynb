{
 "cells": [
  {
   "cell_type": "code",
   "execution_count": 1,
   "metadata": {},
   "outputs": [],
   "source": [
    "import pandas as pd\n",
    "import numpy as np\n",
    "from sklearn.model_selection import train_test_split\n",
    "from sklearn.impute import SimpleImputer\n",
    "from sklearn.preprocessing import StandardScaler\n",
    "from tensorflow.keras.models import Sequential\n",
    "from tensorflow.keras.layers import Dense\n",
    "from tensorflow.keras.optimizers import Adam\n",
    "from sklearn.metrics import mean_squared_error, mean_absolute_error, r2_score\n",
    "import matplotlib.pyplot as plt\n",
    "from keras.callbacks import Callback"
   ]
  },
  {
   "cell_type": "code",
   "execution_count": 2,
   "metadata": {},
   "outputs": [],
   "source": [
    "df = pd.read_csv('C:\\\\Users\\\\thinh\\\\Downloads\\\\data\\\\train.csv')"
   ]
  },
  {
   "cell_type": "code",
   "execution_count": 3,
   "metadata": {},
   "outputs": [
    {
     "data": {
      "text/html": [
       "<div>\n",
       "<style scoped>\n",
       "    .dataframe tbody tr th:only-of-type {\n",
       "        vertical-align: middle;\n",
       "    }\n",
       "\n",
       "    .dataframe tbody tr th {\n",
       "        vertical-align: top;\n",
       "    }\n",
       "\n",
       "    .dataframe thead th {\n",
       "        text-align: right;\n",
       "    }\n",
       "</style>\n",
       "<table border=\"1\" class=\"dataframe\">\n",
       "  <thead>\n",
       "    <tr style=\"text-align: right;\">\n",
       "      <th></th>\n",
       "      <th>userID_hash</th>\n",
       "      <th>month</th>\n",
       "      <th>x0</th>\n",
       "      <th>x1</th>\n",
       "      <th>x2</th>\n",
       "      <th>x3</th>\n",
       "      <th>x4</th>\n",
       "      <th>x5</th>\n",
       "      <th>x6</th>\n",
       "      <th>x7</th>\n",
       "      <th>...</th>\n",
       "      <th>previous_x46</th>\n",
       "      <th>previous_x47</th>\n",
       "      <th>previous_x48</th>\n",
       "      <th>previous_x49</th>\n",
       "      <th>previous_x50</th>\n",
       "      <th>previous_x51</th>\n",
       "      <th>previous_x52</th>\n",
       "      <th>previous_x53</th>\n",
       "      <th>previous_x54</th>\n",
       "      <th>y</th>\n",
       "    </tr>\n",
       "  </thead>\n",
       "  <tbody>\n",
       "    <tr>\n",
       "      <th>0</th>\n",
       "      <td>2d90a44b2d37900619c2398ee3b07c24ae45c9436fb44b...</td>\n",
       "      <td>2022-09</td>\n",
       "      <td>4.000000</td>\n",
       "      <td>4.0</td>\n",
       "      <td>0.0</td>\n",
       "      <td>2.0</td>\n",
       "      <td>2.0</td>\n",
       "      <td>0.0</td>\n",
       "      <td>138000.0</td>\n",
       "      <td>0.0</td>\n",
       "      <td>...</td>\n",
       "      <td>0.0</td>\n",
       "      <td>2.0</td>\n",
       "      <td>2.0</td>\n",
       "      <td>0.0</td>\n",
       "      <td>61000.0</td>\n",
       "      <td>0.0</td>\n",
       "      <td>30500.0</td>\n",
       "      <td>0.0</td>\n",
       "      <td>1.0</td>\n",
       "      <td>177000.0</td>\n",
       "    </tr>\n",
       "    <tr>\n",
       "      <th>1</th>\n",
       "      <td>097a3239adb67f3d00fe75338a7e1082363746384dff00...</td>\n",
       "      <td>2022-07</td>\n",
       "      <td>2.090909</td>\n",
       "      <td>11.0</td>\n",
       "      <td>1.0</td>\n",
       "      <td>8.0</td>\n",
       "      <td>8.0</td>\n",
       "      <td>1.0</td>\n",
       "      <td>7087542.0</td>\n",
       "      <td>750000.0</td>\n",
       "      <td>...</td>\n",
       "      <td>0.0</td>\n",
       "      <td>1.0</td>\n",
       "      <td>1.0</td>\n",
       "      <td>0.0</td>\n",
       "      <td>180300.0</td>\n",
       "      <td>0.0</td>\n",
       "      <td>90150.0</td>\n",
       "      <td>0.0</td>\n",
       "      <td>1.0</td>\n",
       "      <td>14893793.0</td>\n",
       "    </tr>\n",
       "    <tr>\n",
       "      <th>2</th>\n",
       "      <td>9f9f56fdc788f9a817ec9928309921539a47f6656fe7d6...</td>\n",
       "      <td>2022-07</td>\n",
       "      <td>9.333333</td>\n",
       "      <td>4.0</td>\n",
       "      <td>0.0</td>\n",
       "      <td>3.0</td>\n",
       "      <td>3.0</td>\n",
       "      <td>0.0</td>\n",
       "      <td>267050.0</td>\n",
       "      <td>0.0</td>\n",
       "      <td>...</td>\n",
       "      <td>NaN</td>\n",
       "      <td>NaN</td>\n",
       "      <td>NaN</td>\n",
       "      <td>NaN</td>\n",
       "      <td>NaN</td>\n",
       "      <td>NaN</td>\n",
       "      <td>NaN</td>\n",
       "      <td>NaN</td>\n",
       "      <td>NaN</td>\n",
       "      <td>232200.0</td>\n",
       "    </tr>\n",
       "    <tr>\n",
       "      <th>3</th>\n",
       "      <td>b5ccb95b3a44bc48b5d8bd819cf48689f756c5c2669619...</td>\n",
       "      <td>2022-10</td>\n",
       "      <td>0.500000</td>\n",
       "      <td>19.0</td>\n",
       "      <td>4.0</td>\n",
       "      <td>7.0</td>\n",
       "      <td>7.0</td>\n",
       "      <td>1.0</td>\n",
       "      <td>1756880.0</td>\n",
       "      <td>453000.0</td>\n",
       "      <td>...</td>\n",
       "      <td>NaN</td>\n",
       "      <td>NaN</td>\n",
       "      <td>NaN</td>\n",
       "      <td>NaN</td>\n",
       "      <td>NaN</td>\n",
       "      <td>NaN</td>\n",
       "      <td>NaN</td>\n",
       "      <td>NaN</td>\n",
       "      <td>NaN</td>\n",
       "      <td>410200.0</td>\n",
       "    </tr>\n",
       "    <tr>\n",
       "      <th>4</th>\n",
       "      <td>afd48246a21834776f945fc30e10ea7bba1d051b01798d...</td>\n",
       "      <td>2022-10</td>\n",
       "      <td>NaN</td>\n",
       "      <td>NaN</td>\n",
       "      <td>NaN</td>\n",
       "      <td>NaN</td>\n",
       "      <td>NaN</td>\n",
       "      <td>NaN</td>\n",
       "      <td>NaN</td>\n",
       "      <td>NaN</td>\n",
       "      <td>...</td>\n",
       "      <td>NaN</td>\n",
       "      <td>NaN</td>\n",
       "      <td>NaN</td>\n",
       "      <td>NaN</td>\n",
       "      <td>NaN</td>\n",
       "      <td>NaN</td>\n",
       "      <td>NaN</td>\n",
       "      <td>NaN</td>\n",
       "      <td>NaN</td>\n",
       "      <td>105000.0</td>\n",
       "    </tr>\n",
       "  </tbody>\n",
       "</table>\n",
       "<p>5 rows × 113 columns</p>\n",
       "</div>"
      ],
      "text/plain": [
       "                                         userID_hash    month        x0    x1  \\\n",
       "0  2d90a44b2d37900619c2398ee3b07c24ae45c9436fb44b...  2022-09  4.000000   4.0   \n",
       "1  097a3239adb67f3d00fe75338a7e1082363746384dff00...  2022-07  2.090909  11.0   \n",
       "2  9f9f56fdc788f9a817ec9928309921539a47f6656fe7d6...  2022-07  9.333333   4.0   \n",
       "3  b5ccb95b3a44bc48b5d8bd819cf48689f756c5c2669619...  2022-10  0.500000  19.0   \n",
       "4  afd48246a21834776f945fc30e10ea7bba1d051b01798d...  2022-10       NaN   NaN   \n",
       "\n",
       "    x2   x3   x4   x5         x6        x7  ...  previous_x46  previous_x47  \\\n",
       "0  0.0  2.0  2.0  0.0   138000.0       0.0  ...           0.0           2.0   \n",
       "1  1.0  8.0  8.0  1.0  7087542.0  750000.0  ...           0.0           1.0   \n",
       "2  0.0  3.0  3.0  0.0   267050.0       0.0  ...           NaN           NaN   \n",
       "3  4.0  7.0  7.0  1.0  1756880.0  453000.0  ...           NaN           NaN   \n",
       "4  NaN  NaN  NaN  NaN        NaN       NaN  ...           NaN           NaN   \n",
       "\n",
       "   previous_x48  previous_x49  previous_x50  previous_x51  previous_x52  \\\n",
       "0           2.0           0.0       61000.0           0.0       30500.0   \n",
       "1           1.0           0.0      180300.0           0.0       90150.0   \n",
       "2           NaN           NaN           NaN           NaN           NaN   \n",
       "3           NaN           NaN           NaN           NaN           NaN   \n",
       "4           NaN           NaN           NaN           NaN           NaN   \n",
       "\n",
       "   previous_x53  previous_x54           y  \n",
       "0           0.0           1.0    177000.0  \n",
       "1           0.0           1.0  14893793.0  \n",
       "2           NaN           NaN    232200.0  \n",
       "3           NaN           NaN    410200.0  \n",
       "4           NaN           NaN    105000.0  \n",
       "\n",
       "[5 rows x 113 columns]"
      ]
     },
     "execution_count": 3,
     "metadata": {},
     "output_type": "execute_result"
    }
   ],
   "source": [
    "df.head()"
   ]
  },
  {
   "cell_type": "code",
   "execution_count": 4,
   "metadata": {},
   "outputs": [
    {
     "data": {
      "text/plain": [
       "<bound method DataFrame.info of                                                userID_hash    month        x0  \\\n",
       "0        2d90a44b2d37900619c2398ee3b07c24ae45c9436fb44b...  2022-09  4.000000   \n",
       "1        097a3239adb67f3d00fe75338a7e1082363746384dff00...  2022-07  2.090909   \n",
       "2        9f9f56fdc788f9a817ec9928309921539a47f6656fe7d6...  2022-07  9.333333   \n",
       "3        b5ccb95b3a44bc48b5d8bd819cf48689f756c5c2669619...  2022-10  0.500000   \n",
       "4        afd48246a21834776f945fc30e10ea7bba1d051b01798d...  2022-10       NaN   \n",
       "...                                                    ...      ...       ...   \n",
       "1777355  cfeb70397779fdcaeefcdc72a5211a0d8861eab7b4b0aa...  2022-09       NaN   \n",
       "1777356  2e98ff188fb794d4b4d4dbe5025c3e0ddad5b1c912a593...  2022-09  1.000000   \n",
       "1777357  d2727d52f9a0cdf020995485f8a91b130bdbe71281bade...  2022-10  0.400000   \n",
       "1777358  7e585db8ef31d0a79ab5aeaea677b5728249b7e9ac3707...  2022-10       NaN   \n",
       "1777359  a1773bc1ed26ead93ed2d076ba67d6ec40a5aa59672250...  2022-09  0.250000   \n",
       "\n",
       "           x1   x2   x3   x4   x5         x6        x7  ...  previous_x46  \\\n",
       "0         4.0  0.0  2.0  2.0  0.0   138000.0       0.0  ...           0.0   \n",
       "1        11.0  1.0  8.0  8.0  1.0  7087542.0  750000.0  ...           0.0   \n",
       "2         4.0  0.0  3.0  3.0  0.0   267050.0       0.0  ...           NaN   \n",
       "3        19.0  4.0  7.0  7.0  1.0  1756880.0  453000.0  ...           NaN   \n",
       "4         NaN  NaN  NaN  NaN  NaN        NaN       NaN  ...           NaN   \n",
       "...       ...  ...  ...  ...  ...        ...       ...  ...           ...   \n",
       "1777355   NaN  NaN  NaN  NaN  NaN        NaN       NaN  ...           NaN   \n",
       "1777356   2.0  0.0  2.0  2.0  0.0    20000.0       0.0  ...           NaN   \n",
       "1777357   6.0  0.0  2.0  2.0  0.0   129000.0       0.0  ...           NaN   \n",
       "1777358   1.0  0.0  1.0  1.0  0.0      980.0       0.0  ...           NaN   \n",
       "1777359   5.0  0.0  2.0  2.0  0.0   342128.0       0.0  ...           NaN   \n",
       "\n",
       "         previous_x47  previous_x48  previous_x49  previous_x50  previous_x51  \\\n",
       "0                 2.0           2.0           0.0       61000.0           0.0   \n",
       "1                 1.0           1.0           0.0      180300.0           0.0   \n",
       "2                 NaN           NaN           NaN           NaN           NaN   \n",
       "3                 NaN           NaN           NaN           NaN           NaN   \n",
       "4                 NaN           NaN           NaN           NaN           NaN   \n",
       "...               ...           ...           ...           ...           ...   \n",
       "1777355           NaN           NaN           NaN           NaN           NaN   \n",
       "1777356           NaN           NaN           NaN           NaN           NaN   \n",
       "1777357           NaN           NaN           NaN           NaN           NaN   \n",
       "1777358           NaN           NaN           NaN           NaN           NaN   \n",
       "1777359           NaN           NaN           NaN           NaN           NaN   \n",
       "\n",
       "         previous_x52  previous_x53  previous_x54           y  \n",
       "0             30500.0           0.0           1.0    177000.0  \n",
       "1             90150.0           0.0           1.0  14893793.0  \n",
       "2                 NaN           NaN           NaN    232200.0  \n",
       "3                 NaN           NaN           NaN    410200.0  \n",
       "4                 NaN           NaN           NaN    105000.0  \n",
       "...               ...           ...           ...         ...  \n",
       "1777355           NaN           NaN           NaN     20000.0  \n",
       "1777356           NaN           NaN           NaN     10000.0  \n",
       "1777357           NaN           NaN           NaN     65000.0  \n",
       "1777358           NaN           NaN           NaN    115296.0  \n",
       "1777359           NaN           NaN           NaN    108000.0  \n",
       "\n",
       "[1777360 rows x 113 columns]>"
      ]
     },
     "execution_count": 4,
     "metadata": {},
     "output_type": "execute_result"
    }
   ],
   "source": [
    "df.info"
   ]
  },
  {
   "cell_type": "code",
   "execution_count": 5,
   "metadata": {},
   "outputs": [
    {
     "data": {
      "text/plain": [
       "array([-0.20384012,  5.40518724, -0.18280169, ..., -0.24652681,\n",
       "       -0.22735744, -0.23013817])"
      ]
     },
     "execution_count": 5,
     "metadata": {},
     "output_type": "execute_result"
    }
   ],
   "source": [
    "imputer = SimpleImputer(strategy='mean')\n",
    "df_imputed = imputer.fit_transform(df.iloc[:, 2:])\n",
    "scaler = StandardScaler()\n",
    "data_scaled = scaler.fit_transform(df_imputed)\n",
    "\n",
    "# Tách features và target\n",
    "X = data_scaled[:, :-1]\n",
    "y = data_scaled[:, -1]\n",
    "y"
   ]
  },
  {
   "cell_type": "code",
   "execution_count": 6,
   "metadata": {},
   "outputs": [],
   "source": [
    "\n",
    "data_imputed = pd.DataFrame(df_imputed, columns=df.iloc[:, 2:].columns)"
   ]
  },
  {
   "cell_type": "code",
   "execution_count": 7,
   "metadata": {},
   "outputs": [
    {
     "name": "stderr",
     "output_type": "stream",
     "text": [
      "c:\\Users\\thinh\\AppData\\Local\\Programs\\Python\\Python311\\Lib\\site-packages\\keras\\src\\layers\\core\\dense.py:87: UserWarning: Do not pass an `input_shape`/`input_dim` argument to a layer. When using Sequential models, prefer using an `Input(shape)` object as the first layer in the model instead.\n",
      "  super().__init__(activity_regularizer=activity_regularizer, **kwargs)\n"
     ]
    },
    {
     "name": "stdout",
     "output_type": "stream",
     "text": [
      "Epoch 1/15\n",
      "\u001b[1m35548/35548\u001b[0m \u001b[32m━━━━━━━━━━━━━━━━━━━━\u001b[0m\u001b[37m\u001b[0m \u001b[1m27s\u001b[0m 732us/step - loss: 0.6594 - val_loss: 0.5352\n",
      "Epoch 2/15\n",
      "\u001b[1m35548/35548\u001b[0m \u001b[32m━━━━━━━━━━━━━━━━━━━━\u001b[0m\u001b[37m\u001b[0m \u001b[1m25s\u001b[0m 699us/step - loss: 0.5215 - val_loss: 0.5161\n",
      "Epoch 3/15\n",
      "\u001b[1m35548/35548\u001b[0m \u001b[32m━━━━━━━━━━━━━━━━━━━━\u001b[0m\u001b[37m\u001b[0m \u001b[1m25s\u001b[0m 695us/step - loss: 0.4822 - val_loss: 0.5092\n",
      "Epoch 4/15\n",
      "\u001b[1m35548/35548\u001b[0m \u001b[32m━━━━━━━━━━━━━━━━━━━━\u001b[0m\u001b[37m\u001b[0m \u001b[1m25s\u001b[0m 689us/step - loss: 0.5127 - val_loss: 0.5350\n",
      "Epoch 5/15\n",
      "\u001b[1m35548/35548\u001b[0m \u001b[32m━━━━━━━━━━━━━━━━━━━━\u001b[0m\u001b[37m\u001b[0m \u001b[1m26s\u001b[0m 727us/step - loss: 0.4564 - val_loss: 0.5259\n",
      "Epoch 6/15\n",
      "\u001b[1m35548/35548\u001b[0m \u001b[32m━━━━━━━━━━━━━━━━━━━━\u001b[0m\u001b[37m\u001b[0m \u001b[1m29s\u001b[0m 819us/step - loss: 0.5012 - val_loss: 0.5232\n",
      "Epoch 7/15\n",
      "\u001b[1m35548/35548\u001b[0m \u001b[32m━━━━━━━━━━━━━━━━━━━━\u001b[0m\u001b[37m\u001b[0m \u001b[1m29s\u001b[0m 823us/step - loss: 0.5287 - val_loss: 0.5143\n",
      "Epoch 8/15\n",
      "\u001b[1m35548/35548\u001b[0m \u001b[32m━━━━━━━━━━━━━━━━━━━━\u001b[0m\u001b[37m\u001b[0m \u001b[1m30s\u001b[0m 838us/step - loss: 0.4834 - val_loss: 0.5209\n",
      "Epoch 9/15\n",
      "\u001b[1m35548/35548\u001b[0m \u001b[32m━━━━━━━━━━━━━━━━━━━━\u001b[0m\u001b[37m\u001b[0m \u001b[1m30s\u001b[0m 843us/step - loss: 0.4906 - val_loss: 0.5107\n",
      "Epoch 10/15\n",
      "\u001b[1m35548/35548\u001b[0m \u001b[32m━━━━━━━━━━━━━━━━━━━━\u001b[0m\u001b[37m\u001b[0m \u001b[1m30s\u001b[0m 841us/step - loss: 0.5060 - val_loss: 0.5125\n",
      "Epoch 11/15\n",
      "\u001b[1m35548/35548\u001b[0m \u001b[32m━━━━━━━━━━━━━━━━━━━━\u001b[0m\u001b[37m\u001b[0m \u001b[1m30s\u001b[0m 837us/step - loss: 0.4832 - val_loss: 0.5410\n",
      "Epoch 12/15\n",
      "\u001b[1m35548/35548\u001b[0m \u001b[32m━━━━━━━━━━━━━━━━━━━━\u001b[0m\u001b[37m\u001b[0m \u001b[1m30s\u001b[0m 839us/step - loss: 0.4819 - val_loss: 0.5786\n",
      "Epoch 13/15\n",
      "\u001b[1m35548/35548\u001b[0m \u001b[32m━━━━━━━━━━━━━━━━━━━━\u001b[0m\u001b[37m\u001b[0m \u001b[1m30s\u001b[0m 839us/step - loss: 0.4715 - val_loss: 0.5676\n",
      "Epoch 14/15\n",
      "\u001b[1m35548/35548\u001b[0m \u001b[32m━━━━━━━━━━━━━━━━━━━━\u001b[0m\u001b[37m\u001b[0m \u001b[1m30s\u001b[0m 833us/step - loss: 0.4623 - val_loss: 0.5340\n",
      "Epoch 15/15\n",
      "\u001b[1m35548/35548\u001b[0m \u001b[32m━━━━━━━━━━━━━━━━━━━━\u001b[0m\u001b[37m\u001b[0m \u001b[1m29s\u001b[0m 827us/step - loss: 0.4770 - val_loss: 0.5174\n"
     ]
    }
   ],
   "source": [
    "# Chia dữ liệu thành tập huấn luyện và kiểm tra\n",
    "X_train, X_test, y_train, y_test = train_test_split(X, y, test_size=0.2, random_state=42)\n",
    "\n",
    "# Xây dựng mô hình tuần tự\n",
    "model = Sequential()\n",
    "model.add(Dense(64, input_dim=X_train.shape[1], activation='relu'))\n",
    "model.add(Dense(32, activation='relu'))\n",
    "model.add(Dense(1))\n",
    "\n",
    "# Compile mô hình\n",
    "model.compile(optimizer=Adam(learning_rate=0.001), loss='mse')\n",
    "\n",
    "# Huấn luyện mô hình\n",
    "history = model.fit(X_train, y_train, epochs=15, batch_size=32, validation_split=0.2)"
   ]
  },
  {
   "cell_type": "code",
   "execution_count": 8,
   "metadata": {},
   "outputs": [
    {
     "name": "stdout",
     "output_type": "stream",
     "text": [
      "\u001b[1m11109/11109\u001b[0m \u001b[32m━━━━━━━━━━━━━━━━━━━━\u001b[0m\u001b[37m\u001b[0m \u001b[1m8s\u001b[0m 679us/step\n",
      "Mean Squared Error: 0.5078362473335699\n",
      "Mean Absolute Error: 0.21029471491099472\n",
      "R-squared: 0.4506735129862506\n"
     ]
    }
   ],
   "source": [
    "y_pred = model.predict(X_test).flatten()\n",
    "mse = mean_squared_error(y_test, y_pred)\n",
    "mae = mean_absolute_error(y_test, y_pred)\n",
    "r2 = r2_score(y_test, y_pred)\n",
    "print(f'Mean Squared Error: {mse}')\n",
    "print(f'Mean Absolute Error: {mae}')\n",
    "print(f'R-squared: {r2}')\n"
   ]
  },
  {
   "cell_type": "code",
   "execution_count": 9,
   "metadata": {},
   "outputs": [
    {
     "name": "stdout",
     "output_type": "stream",
     "text": [
      "Predicted values: [ 0.0259515  -0.11767995 -0.17511773 -0.14671838 -0.09157515]\n",
      "True values: [-0.16591758 -0.27130033 -0.26215318 -0.25203034 -0.2255646 ]\n"
     ]
    },
    {
     "data": {
      "image/png": "[encoded data removed]",
      "text/plain": [
       "<Figure size 640x480 with 1 Axes>"
      ]
     },
     "metadata": {},
     "output_type": "display_data"
    }
   ],
   "source": [
    "# In ra một vài giá trị dự đoán\n",
    "print(f'Predicted values: {y_pred[:5]}')\n",
    "print(f'True values: {y_test[:5]}')\n",
    "\n",
    "# Vẽ biểu đồ loss và val_loss\n",
    "plt.plot(history.history['loss'], label='Train Loss')\n",
    "plt.plot(history.history['val_loss'], label='Validation Loss')\n",
    "plt.xlabel('Epochs')\n",
    "plt.ylabel('Loss')\n",
    "plt.legend()\n",
    "plt.show()"
   ]
  }
 ],
 "metadata": {
  "kernelspec": {
   "display_name": "Python 3",
   "language": "python",
   "name": "python3"
  },
  "language_info": {
   "codemirror_mode": {
    "name": "ipython",
    "version": 3
   },
   "file_extension": ".py",
   "mimetype": "text/x-python",
   "name": "python",
   "nbconvert_exporter": "python",
   "pygments_lexer": "ipython3",
   "version": "3.11.9"
  }
 },
 "nbformat": 4,
 "nbformat_minor": 2
}
